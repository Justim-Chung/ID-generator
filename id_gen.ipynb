{
 "cells": [
  {
   "cell_type": "code",
   "execution_count": 1,
   "metadata": {},
   "outputs": [],
   "source": [
    "region_tbl = {\n",
    "    '台北市':['A', 10],\n",
    "    '台中市':['B', 11],\n",
    "    '基隆市':['C', 12],\n",
    "    '台南市':['D', 13],\n",
    "    '高雄市':['E', 14],\n",
    "    '新北市':['F', 15],\n",
    "    '宜蘭縣':['G', 16],\n",
    "    '桃園市':['H', 17],\n",
    "    '嘉義市':['I', 34],\n",
    "    '新竹縣':['J', 18],\n",
    "    '苗栗縣':['K', 19],\n",
    "    '南投縣':['M', 21],\n",
    "    '彰化縣':['N', 22],\n",
    "    '新竹市':['O', 35],\n",
    "    '雲林縣':['P', 23],\n",
    "    '嘉義縣':['Q', 24],\n",
    "    '屏東縣':['T', 27],\n",
    "    '花蓮縣':['U', 28],\n",
    "    '台東縣':['V', 29],\n",
    "    '金門縣':['W', 32],\n",
    "    '澎湖縣':['X', 30],\n",
    "    '連江縣':['Z', 33]\n",
    "}"
   ]
  },
  {
   "cell_type": "code",
   "execution_count": 2,
   "metadata": {},
   "outputs": [
    {
     "data": {
      "text/plain": [
       "['A', 10]"
      ]
     },
     "execution_count": 2,
     "metadata": {},
     "output_type": "execute_result"
    }
   ],
   "source": [
    "region_tbl['台北市']"
   ]
  },
  {
   "cell_type": "code",
   "execution_count": 3,
   "metadata": {},
   "outputs": [],
   "source": [
    "male = 1\n",
    "female = 2"
   ]
  },
  {
   "cell_type": "markdown",
   "metadata": {},
   "source": [
    "# 身份證驗證\n",
    "\n",
    "輸入一個身份證，判斷是否合法"
   ]
  },
  {
   "cell_type": "code",
   "execution_count": 5,
   "metadata": {},
   "outputs": [
    {
     "data": {
      "text/plain": [
       "['台北市', 10]"
      ]
     },
     "execution_count": 5,
     "metadata": {},
     "output_type": "execute_result"
    }
   ],
   "source": [
    "region_alphabet_tbl = {}\n",
    "\n",
    "for k, v in region_tbl.items():\n",
    "    region_alphabet_tbl[v[0]] = [k, v[1]]\n",
    "\n",
    "region_alphabet_tbl['A']"
   ]
  },
  {
   "cell_type": "code",
   "execution_count": 6,
   "metadata": {},
   "outputs": [],
   "source": [
    "input_id = 'A123456789'"
   ]
  },
  {
   "cell_type": "code",
   "execution_count": 8,
   "metadata": {},
   "outputs": [
    {
     "data": {
      "text/plain": [
       "10"
      ]
     },
     "execution_count": 8,
     "metadata": {},
     "output_type": "execute_result"
    }
   ],
   "source": [
    "region_code = input_id[0]\n",
    "region_alphabet_tbl[region_code][1]"
   ]
  },
  {
   "cell_type": "code",
   "execution_count": 11,
   "metadata": {},
   "outputs": [
    {
     "name": "stdout",
     "output_type": "stream",
     "text": [
      "[1, 0, 1, 2, 3, 4, 5, 6, 7, 8, 9]\n"
     ]
    }
   ],
   "source": [
    "id_buf = [0]*11\n",
    "# 區域碼\n",
    "id_buf[0] = region_alphabet_tbl[region_code][1]//10\n",
    "id_buf[1] = region_alphabet_tbl[region_code][1]%10\n",
    "\n",
    "# 性別\n",
    "id_buf[2] = int(input_id[1])\n",
    "# 其餘號碼\n",
    "for i in range(3, 11):\n",
    "    id_buf[i] = int(input_id[i-1])\n",
    "\n",
    "print(id_buf)"
   ]
  },
  {
   "cell_type": "code",
   "execution_count": 12,
   "metadata": {},
   "outputs": [],
   "source": [
    "id_weights = [1, 9, 8, 7, 6, 5, 4, 3, 2, 1, 1]"
   ]
  },
  {
   "cell_type": "code",
   "execution_count": 13,
   "metadata": {},
   "outputs": [
    {
     "name": "stdout",
     "output_type": "stream",
     "text": [
      "valid\n"
     ]
    }
   ],
   "source": [
    "id_sum = 0\n",
    "for i in range(11):\n",
    "    id_sum += id_buf[i]*id_weights[i]\n",
    "\n",
    "if id_sum % 10 == 0:\n",
    "    print('valid')\n",
    "else:\n",
    "    print('invalid')"
   ]
  }
 ],
 "metadata": {
  "kernelspec": {
   "display_name": "base",
   "language": "python",
   "name": "python3"
  },
  "language_info": {
   "codemirror_mode": {
    "name": "ipython",
    "version": 3
   },
   "file_extension": ".py",
   "mimetype": "text/x-python",
   "name": "python",
   "nbconvert_exporter": "python",
   "pygments_lexer": "ipython3",
   "version": "3.9.7"
  },
  "orig_nbformat": 4
 },
 "nbformat": 4,
 "nbformat_minor": 2
}
